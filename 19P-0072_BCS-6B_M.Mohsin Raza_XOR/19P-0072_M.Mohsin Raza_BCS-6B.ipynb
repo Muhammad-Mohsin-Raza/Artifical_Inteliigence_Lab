{
 "cells": [
  {
   "cell_type": "markdown",
   "id": "eec2b207-988a-4c83-80e7-45dcec28a4ba",
   "metadata": {},
   "source": [
    "### **TASK 1**\n",
    "Use the implementation of perceptron from the last lab manual and model the truth table of XOR.\n",
    "\n",
    "![XOR](./XOR.png \"XOR\")\n"
   ]
  },
  {
   "cell_type": "code",
   "execution_count": 1,
   "id": "3919196f",
   "metadata": {},
   "outputs": [],
   "source": [
    "import pandas as pd\n",
    "import numpy as np\n",
    "from sklearn.model_selection import train_test_split"
   ]
  },
  {
   "cell_type": "code",
   "execution_count": 3,
   "id": "fc2611fa",
   "metadata": {},
   "outputs": [
    {
     "data": {
      "text/html": [
       "<div>\n",
       "<style scoped>\n",
       "    .dataframe tbody tr th:only-of-type {\n",
       "        vertical-align: middle;\n",
       "    }\n",
       "\n",
       "    .dataframe tbody tr th {\n",
       "        vertical-align: top;\n",
       "    }\n",
       "\n",
       "    .dataframe thead th {\n",
       "        text-align: right;\n",
       "    }\n",
       "</style>\n",
       "<table border=\"1\" class=\"dataframe\">\n",
       "  <thead>\n",
       "    <tr style=\"text-align: right;\">\n",
       "      <th></th>\n",
       "      <th>A</th>\n",
       "      <th>B</th>\n",
       "      <th>AXORB</th>\n",
       "    </tr>\n",
       "  </thead>\n",
       "  <tbody>\n",
       "    <tr>\n",
       "      <th>0</th>\n",
       "      <td>0</td>\n",
       "      <td>0</td>\n",
       "      <td>0</td>\n",
       "    </tr>\n",
       "    <tr>\n",
       "      <th>1</th>\n",
       "      <td>0</td>\n",
       "      <td>1</td>\n",
       "      <td>1</td>\n",
       "    </tr>\n",
       "    <tr>\n",
       "      <th>2</th>\n",
       "      <td>1</td>\n",
       "      <td>0</td>\n",
       "      <td>1</td>\n",
       "    </tr>\n",
       "    <tr>\n",
       "      <th>3</th>\n",
       "      <td>1</td>\n",
       "      <td>1</td>\n",
       "      <td>0</td>\n",
       "    </tr>\n",
       "  </tbody>\n",
       "</table>\n",
       "</div>"
      ],
      "text/plain": [
       "   A  B  AXORB\n",
       "0  0  0      0\n",
       "1  0  1      1\n",
       "2  1  0      1\n",
       "3  1  1      0"
      ]
     },
     "execution_count": 3,
     "metadata": {},
     "output_type": "execute_result"
    }
   ],
   "source": [
    "data = [[0,0,0], [0,1,1],[1,0,1], [1,1,0]]\n",
    " \n",
    "# Create the pandas DataFrame\n",
    "df = pd.DataFrame(data, columns = ['A', 'B','AXORB'])\n",
    " \n",
    "df\n"
   ]
  },
  {
   "cell_type": "code",
   "execution_count": 4,
   "id": "324be928",
   "metadata": {},
   "outputs": [],
   "source": [
    "X_train=df[['A','B']]\n",
    "Y_train=df['AXORB']\n",
    "#to avoid class invalance we use train_test_split() fun as in data set first it has R data then M "
   ]
  },
  {
   "cell_type": "code",
   "execution_count": 5,
   "id": "f641a147",
   "metadata": {},
   "outputs": [],
   "source": [
    "X_train = np.array(X_train)\n",
    "# X_test = np.array(X_test)\n",
    "Y_train = np.array(Y_train)\n",
    "# y_test = np.array(y_test)"
   ]
  },
  {
   "cell_type": "code",
   "execution_count": 6,
   "id": "9d2add21",
   "metadata": {},
   "outputs": [],
   "source": [
    "X_train=X_train.T"
   ]
  },
  {
   "cell_type": "code",
   "execution_count": 17,
   "id": "04cf32c7",
   "metadata": {},
   "outputs": [],
   "source": [
    "def sigmoid(z):\n",
    "    return 1/(1 + np.exp(-z))"
   ]
  },
  {
   "cell_type": "code",
   "execution_count": 8,
   "id": "d6fdbaaf",
   "metadata": {},
   "outputs": [],
   "source": [
    "numOfTrainSamples = X_train.shape[1]"
   ]
  },
  {
   "cell_type": "code",
   "execution_count": 9,
   "id": "a4a34940",
   "metadata": {},
   "outputs": [
    {
     "data": {
      "text/plain": [
       "array([[0, 1, 1, 0]])"
      ]
     },
     "execution_count": 9,
     "metadata": {},
     "output_type": "execute_result"
    }
   ],
   "source": [
    "np.expand_dims(Y_train,axis =0)"
   ]
  },
  {
   "cell_type": "code",
   "execution_count": 10,
   "id": "c729167c",
   "metadata": {},
   "outputs": [
    {
     "data": {
      "text/plain": [
       "(1, 4)"
      ]
     },
     "execution_count": 10,
     "metadata": {},
     "output_type": "execute_result"
    }
   ],
   "source": [
    "y_train = np.expand_dims(Y_train,axis =0)\n",
    "y_train.shape"
   ]
  },
  {
   "cell_type": "code",
   "execution_count": 11,
   "id": "3b6fd793",
   "metadata": {},
   "outputs": [],
   "source": [
    "#---- As weights are known so no need -----#\n",
    "\n",
    "# W = np.random.rand(2,1)\n",
    "# print(W.shape)\n",
    "# print('W:',W)\n",
    "\n",
    "# print(numOfTrainSamples)\n",
    "# X_train"
   ]
  },
  {
   "cell_type": "code",
   "execution_count": 12,
   "id": "e8b1e3be",
   "metadata": {},
   "outputs": [],
   "source": [
    " #-----As weights are known so no need ----#\n",
    "#  b = np.random.rand()\n",
    "#  b\n"
   ]
  },
  {
   "cell_type": "markdown",
   "id": "40f3dc1b",
   "metadata": {},
   "source": [
    "# Here are finded Weights"
   ]
  },
  {
   "cell_type": "code",
   "execution_count": 13,
   "id": "55410649",
   "metadata": {},
   "outputs": [],
   "source": [
    " w=np.array([[0.39857326],\n",
    " [0.79448032]])"
   ]
  },
  {
   "cell_type": "code",
   "execution_count": 14,
   "id": "0ac41816",
   "metadata": {},
   "outputs": [],
   "source": [
    "train_weights=np.array([-0.32612598])"
   ]
  },
  {
   "cell_type": "code",
   "execution_count": 15,
   "id": "eb514f17",
   "metadata": {},
   "outputs": [],
   "source": [
    "b=train_weights"
   ]
  },
  {
   "cell_type": "code",
   "execution_count": 16,
   "id": "a0b0202f",
   "metadata": {},
   "outputs": [],
   "source": [
    "from sklearn.metrics import log_loss\n",
    "\n",
    "alpha = 0.01\n",
    "\n",
    "for n in range(100):\n",
    "\n",
    "    # Net input function output\n",
    "    Z = np.dot(w.T,X_train,) + b\n",
    "#     Z = np.dot(train_weights.T,X_train,) + train_bias\n",
    "    \n",
    "    # Activation function \n",
    "    A = sigmoid(Z)\n",
    "\n",
    "    \n",
    "    # To change values to int\n",
    "    A = np.where(A < 0.5, 0, 1)\n",
    "\n",
    "    \n",
    "#     print(A)\n",
    "    \n",
    "    # Loss Function \n",
    "    # ----- As weights are find sp no need to update weights----------#\n",
    "#     J = log_loss(y_train,A)\n",
    "#     print(\"Error:\",J)\n",
    "\n",
    "#     dz = A - y_train\n",
    "#     dw = np.dot(X_train,dz.T)/numOfTrainSamples\n",
    "#     db = np.sum(dz,axis =1)/numOfTrainSamples\n",
    "    \n",
    "    \n",
    "#     W = W - alpha * dw\n",
    "#     b = b - alpha *db\n"
   ]
  },
  {
   "cell_type": "code",
   "execution_count": 17,
   "id": "f5db66d8",
   "metadata": {},
   "outputs": [
    {
     "data": {
      "text/plain": [
       "array([[0, 1, 1, 1]])"
      ]
     },
     "execution_count": 17,
     "metadata": {},
     "output_type": "execute_result"
    }
   ],
   "source": [
    "A"
   ]
  },
  {
   "cell_type": "code",
   "execution_count": 18,
   "id": "64c2e285",
   "metadata": {},
   "outputs": [
    {
     "data": {
      "text/plain": [
       "array([0, 1, 1, 0])"
      ]
     },
     "execution_count": 18,
     "metadata": {},
     "output_type": "execute_result"
    }
   ],
   "source": [
    "Y_train"
   ]
  },
  {
   "cell_type": "markdown",
   "id": "3c8a42c1-c399-4682-bb3f-7674319e3313",
   "metadata": {},
   "source": [
    "### **TASK 2**\n",
    "1. Import the diabetes dataset. You can find data description in the description file.\n",
    "2. Use pandas plots to have a look and feel of the different attributes of the data.\n",
    "3. Apply perceptron algorithm to model the data distribution.\n",
    "4. Use mean squared error as your cost/ error function.\n",
    "5. Use the below given derivatives to find gradients of each W.\n",
    "\n",
    "![MSE](./MSE.png \"MSE\")\n",
    "\n",
    "![MSE derivative](./derivativeMSE.png \"MSE derivative\")\n"
   ]
  },
  {
   "cell_type": "code",
   "execution_count": 20,
   "id": "02049a0e-1577-47b7-8bb0-f837b491b7bf",
   "metadata": {},
   "outputs": [
    {
     "data": {
      "text/html": [
       "<div>\n",
       "<style scoped>\n",
       "    .dataframe tbody tr th:only-of-type {\n",
       "        vertical-align: middle;\n",
       "    }\n",
       "\n",
       "    .dataframe tbody tr th {\n",
       "        vertical-align: top;\n",
       "    }\n",
       "\n",
       "    .dataframe thead th {\n",
       "        text-align: right;\n",
       "    }\n",
       "</style>\n",
       "<table border=\"1\" class=\"dataframe\">\n",
       "  <thead>\n",
       "    <tr style=\"text-align: right;\">\n",
       "      <th></th>\n",
       "      <th>1</th>\n",
       "      <th>2</th>\n",
       "      <th>3</th>\n",
       "      <th>4</th>\n",
       "      <th>5</th>\n",
       "      <th>6</th>\n",
       "      <th>7</th>\n",
       "      <th>8</th>\n",
       "      <th>9</th>\n",
       "      <th>10</th>\n",
       "      <th>11</th>\n",
       "    </tr>\n",
       "  </thead>\n",
       "  <tbody>\n",
       "    <tr>\n",
       "      <th>0</th>\n",
       "      <td>59</td>\n",
       "      <td>2</td>\n",
       "      <td>32.1</td>\n",
       "      <td>101.0</td>\n",
       "      <td>157</td>\n",
       "      <td>93.2</td>\n",
       "      <td>38.0</td>\n",
       "      <td>4.0</td>\n",
       "      <td>4.8598</td>\n",
       "      <td>87</td>\n",
       "      <td>151</td>\n",
       "    </tr>\n",
       "    <tr>\n",
       "      <th>1</th>\n",
       "      <td>48</td>\n",
       "      <td>1</td>\n",
       "      <td>21.6</td>\n",
       "      <td>87.0</td>\n",
       "      <td>183</td>\n",
       "      <td>103.2</td>\n",
       "      <td>70.0</td>\n",
       "      <td>3.0</td>\n",
       "      <td>3.8918</td>\n",
       "      <td>69</td>\n",
       "      <td>75</td>\n",
       "    </tr>\n",
       "    <tr>\n",
       "      <th>2</th>\n",
       "      <td>72</td>\n",
       "      <td>2</td>\n",
       "      <td>30.5</td>\n",
       "      <td>93.0</td>\n",
       "      <td>156</td>\n",
       "      <td>93.6</td>\n",
       "      <td>41.0</td>\n",
       "      <td>4.0</td>\n",
       "      <td>4.6728</td>\n",
       "      <td>85</td>\n",
       "      <td>141</td>\n",
       "    </tr>\n",
       "    <tr>\n",
       "      <th>3</th>\n",
       "      <td>24</td>\n",
       "      <td>1</td>\n",
       "      <td>25.3</td>\n",
       "      <td>84.0</td>\n",
       "      <td>198</td>\n",
       "      <td>131.4</td>\n",
       "      <td>40.0</td>\n",
       "      <td>5.0</td>\n",
       "      <td>4.8903</td>\n",
       "      <td>89</td>\n",
       "      <td>206</td>\n",
       "    </tr>\n",
       "    <tr>\n",
       "      <th>4</th>\n",
       "      <td>50</td>\n",
       "      <td>1</td>\n",
       "      <td>23.0</td>\n",
       "      <td>101.0</td>\n",
       "      <td>192</td>\n",
       "      <td>125.4</td>\n",
       "      <td>52.0</td>\n",
       "      <td>4.0</td>\n",
       "      <td>4.2905</td>\n",
       "      <td>80</td>\n",
       "      <td>135</td>\n",
       "    </tr>\n",
       "  </tbody>\n",
       "</table>\n",
       "</div>"
      ],
      "text/plain": [
       "   1   2     3      4    5      6     7    8       9   10   11\n",
       "0  59   2  32.1  101.0  157   93.2  38.0  4.0  4.8598  87  151\n",
       "1  48   1  21.6   87.0  183  103.2  70.0  3.0  3.8918  69   75\n",
       "2  72   2  30.5   93.0  156   93.6  41.0  4.0  4.6728  85  141\n",
       "3  24   1  25.3   84.0  198  131.4  40.0  5.0  4.8903  89  206\n",
       "4  50   1  23.0  101.0  192  125.4  52.0  4.0  4.2905  80  135"
      ]
     },
     "execution_count": 20,
     "metadata": {},
     "output_type": "execute_result"
    }
   ],
   "source": [
    "columns = [i for i in range(1,12)]\n",
    "\n",
    "# columns.append(\"label\")\n",
    "df2 = pd.read_csv(\"diabetes.txt\",names=columns,delimiter = \"\\t\",header=None)\n",
    "df2.head()\n",
    "# df.iloc[57]"
   ]
  },
  {
   "cell_type": "code",
   "execution_count": 21,
   "id": "7b43003c",
   "metadata": {},
   "outputs": [],
   "source": [
    "\n",
    "X2_train, X2_test, y2_train, y2_test = train_test_split(df2[columns[:-1]], df2[columns[-1]], test_size=0.33, random_state=42)\n",
    "#to avoid class invalance we use train_test_split() fun as in data set first it has R data then M "
   ]
  },
  {
   "cell_type": "code",
   "execution_count": 22,
   "id": "400a0eb4",
   "metadata": {},
   "outputs": [
    {
     "data": {
      "text/plain": [
       "231    154\n",
       "325    192\n",
       "193    116\n",
       "109     81\n",
       "195    122\n",
       "      ... \n",
       "106    134\n",
       "270    202\n",
       "348    148\n",
       "435     64\n",
       "102    302\n",
       "Name: 11, Length: 296, dtype: int64"
      ]
     },
     "execution_count": 22,
     "metadata": {},
     "output_type": "execute_result"
    }
   ],
   "source": [
    "y2_train"
   ]
  },
  {
   "cell_type": "code",
   "execution_count": 23,
   "id": "6fe931ce",
   "metadata": {},
   "outputs": [
    {
     "data": {
      "text/html": [
       "<div>\n",
       "<style scoped>\n",
       "    .dataframe tbody tr th:only-of-type {\n",
       "        vertical-align: middle;\n",
       "    }\n",
       "\n",
       "    .dataframe tbody tr th {\n",
       "        vertical-align: top;\n",
       "    }\n",
       "\n",
       "    .dataframe thead th {\n",
       "        text-align: right;\n",
       "    }\n",
       "</style>\n",
       "<table border=\"1\" class=\"dataframe\">\n",
       "  <thead>\n",
       "    <tr style=\"text-align: right;\">\n",
       "      <th></th>\n",
       "      <th>1</th>\n",
       "      <th>2</th>\n",
       "      <th>3</th>\n",
       "      <th>4</th>\n",
       "      <th>5</th>\n",
       "      <th>6</th>\n",
       "      <th>7</th>\n",
       "      <th>8</th>\n",
       "      <th>9</th>\n",
       "      <th>10</th>\n",
       "      <th>11</th>\n",
       "    </tr>\n",
       "  </thead>\n",
       "  <tbody>\n",
       "    <tr>\n",
       "      <th>count</th>\n",
       "      <td>442.000000</td>\n",
       "      <td>442.000000</td>\n",
       "      <td>442.000000</td>\n",
       "      <td>442.000000</td>\n",
       "      <td>442.000000</td>\n",
       "      <td>442.000000</td>\n",
       "      <td>442.000000</td>\n",
       "      <td>442.000000</td>\n",
       "      <td>442.000000</td>\n",
       "      <td>442.000000</td>\n",
       "      <td>442.000000</td>\n",
       "    </tr>\n",
       "    <tr>\n",
       "      <th>mean</th>\n",
       "      <td>48.518100</td>\n",
       "      <td>1.468326</td>\n",
       "      <td>26.375792</td>\n",
       "      <td>94.647014</td>\n",
       "      <td>189.140271</td>\n",
       "      <td>115.439140</td>\n",
       "      <td>49.788462</td>\n",
       "      <td>4.070249</td>\n",
       "      <td>4.641411</td>\n",
       "      <td>91.260181</td>\n",
       "      <td>152.133484</td>\n",
       "    </tr>\n",
       "    <tr>\n",
       "      <th>std</th>\n",
       "      <td>13.109028</td>\n",
       "      <td>0.499561</td>\n",
       "      <td>4.418122</td>\n",
       "      <td>13.831283</td>\n",
       "      <td>34.608052</td>\n",
       "      <td>30.413081</td>\n",
       "      <td>12.934202</td>\n",
       "      <td>1.290450</td>\n",
       "      <td>0.522391</td>\n",
       "      <td>11.496335</td>\n",
       "      <td>77.093005</td>\n",
       "    </tr>\n",
       "    <tr>\n",
       "      <th>min</th>\n",
       "      <td>19.000000</td>\n",
       "      <td>1.000000</td>\n",
       "      <td>18.000000</td>\n",
       "      <td>62.000000</td>\n",
       "      <td>97.000000</td>\n",
       "      <td>41.600000</td>\n",
       "      <td>22.000000</td>\n",
       "      <td>2.000000</td>\n",
       "      <td>3.258100</td>\n",
       "      <td>58.000000</td>\n",
       "      <td>25.000000</td>\n",
       "    </tr>\n",
       "    <tr>\n",
       "      <th>25%</th>\n",
       "      <td>38.250000</td>\n",
       "      <td>1.000000</td>\n",
       "      <td>23.200000</td>\n",
       "      <td>84.000000</td>\n",
       "      <td>164.250000</td>\n",
       "      <td>96.050000</td>\n",
       "      <td>40.250000</td>\n",
       "      <td>3.000000</td>\n",
       "      <td>4.276700</td>\n",
       "      <td>83.250000</td>\n",
       "      <td>87.000000</td>\n",
       "    </tr>\n",
       "    <tr>\n",
       "      <th>50%</th>\n",
       "      <td>50.000000</td>\n",
       "      <td>1.000000</td>\n",
       "      <td>25.700000</td>\n",
       "      <td>93.000000</td>\n",
       "      <td>186.000000</td>\n",
       "      <td>113.000000</td>\n",
       "      <td>48.000000</td>\n",
       "      <td>4.000000</td>\n",
       "      <td>4.620050</td>\n",
       "      <td>91.000000</td>\n",
       "      <td>140.500000</td>\n",
       "    </tr>\n",
       "    <tr>\n",
       "      <th>75%</th>\n",
       "      <td>59.000000</td>\n",
       "      <td>2.000000</td>\n",
       "      <td>29.275000</td>\n",
       "      <td>105.000000</td>\n",
       "      <td>209.750000</td>\n",
       "      <td>134.500000</td>\n",
       "      <td>57.750000</td>\n",
       "      <td>5.000000</td>\n",
       "      <td>4.997200</td>\n",
       "      <td>98.000000</td>\n",
       "      <td>211.500000</td>\n",
       "    </tr>\n",
       "    <tr>\n",
       "      <th>max</th>\n",
       "      <td>79.000000</td>\n",
       "      <td>2.000000</td>\n",
       "      <td>42.200000</td>\n",
       "      <td>133.000000</td>\n",
       "      <td>301.000000</td>\n",
       "      <td>242.400000</td>\n",
       "      <td>99.000000</td>\n",
       "      <td>9.090000</td>\n",
       "      <td>6.107000</td>\n",
       "      <td>124.000000</td>\n",
       "      <td>346.000000</td>\n",
       "    </tr>\n",
       "  </tbody>\n",
       "</table>\n",
       "</div>"
      ],
      "text/plain": [
       "               1           2           3           4           5           6   \\\n",
       "count  442.000000  442.000000  442.000000  442.000000  442.000000  442.000000   \n",
       "mean    48.518100    1.468326   26.375792   94.647014  189.140271  115.439140   \n",
       "std     13.109028    0.499561    4.418122   13.831283   34.608052   30.413081   \n",
       "min     19.000000    1.000000   18.000000   62.000000   97.000000   41.600000   \n",
       "25%     38.250000    1.000000   23.200000   84.000000  164.250000   96.050000   \n",
       "50%     50.000000    1.000000   25.700000   93.000000  186.000000  113.000000   \n",
       "75%     59.000000    2.000000   29.275000  105.000000  209.750000  134.500000   \n",
       "max     79.000000    2.000000   42.200000  133.000000  301.000000  242.400000   \n",
       "\n",
       "               7           8           9           10          11  \n",
       "count  442.000000  442.000000  442.000000  442.000000  442.000000  \n",
       "mean    49.788462    4.070249    4.641411   91.260181  152.133484  \n",
       "std     12.934202    1.290450    0.522391   11.496335   77.093005  \n",
       "min     22.000000    2.000000    3.258100   58.000000   25.000000  \n",
       "25%     40.250000    3.000000    4.276700   83.250000   87.000000  \n",
       "50%     48.000000    4.000000    4.620050   91.000000  140.500000  \n",
       "75%     57.750000    5.000000    4.997200   98.000000  211.500000  \n",
       "max     99.000000    9.090000    6.107000  124.000000  346.000000  "
      ]
     },
     "execution_count": 23,
     "metadata": {},
     "output_type": "execute_result"
    }
   ],
   "source": [
    "df2.describe()"
   ]
  },
  {
   "cell_type": "code",
   "execution_count": 24,
   "id": "6d0eb490",
   "metadata": {},
   "outputs": [
    {
     "data": {
      "text/html": [
       "<div>\n",
       "<style scoped>\n",
       "    .dataframe tbody tr th:only-of-type {\n",
       "        vertical-align: middle;\n",
       "    }\n",
       "\n",
       "    .dataframe tbody tr th {\n",
       "        vertical-align: top;\n",
       "    }\n",
       "\n",
       "    .dataframe thead th {\n",
       "        text-align: right;\n",
       "    }\n",
       "</style>\n",
       "<table border=\"1\" class=\"dataframe\">\n",
       "  <thead>\n",
       "    <tr style=\"text-align: right;\">\n",
       "      <th></th>\n",
       "      <th>1</th>\n",
       "      <th>2</th>\n",
       "      <th>3</th>\n",
       "      <th>4</th>\n",
       "      <th>5</th>\n",
       "      <th>6</th>\n",
       "      <th>7</th>\n",
       "      <th>8</th>\n",
       "      <th>9</th>\n",
       "      <th>10</th>\n",
       "    </tr>\n",
       "  </thead>\n",
       "  <tbody>\n",
       "    <tr>\n",
       "      <th>231</th>\n",
       "      <td>51</td>\n",
       "      <td>1</td>\n",
       "      <td>23.5</td>\n",
       "      <td>101.00</td>\n",
       "      <td>195</td>\n",
       "      <td>121.0</td>\n",
       "      <td>51.0</td>\n",
       "      <td>4.00</td>\n",
       "      <td>4.7449</td>\n",
       "      <td>94</td>\n",
       "    </tr>\n",
       "    <tr>\n",
       "      <th>325</th>\n",
       "      <td>48</td>\n",
       "      <td>1</td>\n",
       "      <td>31.4</td>\n",
       "      <td>75.33</td>\n",
       "      <td>242</td>\n",
       "      <td>151.6</td>\n",
       "      <td>38.0</td>\n",
       "      <td>6.37</td>\n",
       "      <td>5.5683</td>\n",
       "      <td>103</td>\n",
       "    </tr>\n",
       "    <tr>\n",
       "      <th>193</th>\n",
       "      <td>51</td>\n",
       "      <td>2</td>\n",
       "      <td>25.9</td>\n",
       "      <td>76.00</td>\n",
       "      <td>240</td>\n",
       "      <td>169.0</td>\n",
       "      <td>39.0</td>\n",
       "      <td>6.00</td>\n",
       "      <td>5.0752</td>\n",
       "      <td>96</td>\n",
       "    </tr>\n",
       "    <tr>\n",
       "      <th>109</th>\n",
       "      <td>59</td>\n",
       "      <td>2</td>\n",
       "      <td>25.5</td>\n",
       "      <td>95.33</td>\n",
       "      <td>190</td>\n",
       "      <td>139.4</td>\n",
       "      <td>35.0</td>\n",
       "      <td>5.43</td>\n",
       "      <td>4.3567</td>\n",
       "      <td>117</td>\n",
       "    </tr>\n",
       "    <tr>\n",
       "      <th>195</th>\n",
       "      <td>56</td>\n",
       "      <td>2</td>\n",
       "      <td>28.7</td>\n",
       "      <td>99.00</td>\n",
       "      <td>208</td>\n",
       "      <td>146.4</td>\n",
       "      <td>39.0</td>\n",
       "      <td>5.00</td>\n",
       "      <td>4.7274</td>\n",
       "      <td>97</td>\n",
       "    </tr>\n",
       "    <tr>\n",
       "      <th>...</th>\n",
       "      <td>...</td>\n",
       "      <td>...</td>\n",
       "      <td>...</td>\n",
       "      <td>...</td>\n",
       "      <td>...</td>\n",
       "      <td>...</td>\n",
       "      <td>...</td>\n",
       "      <td>...</td>\n",
       "      <td>...</td>\n",
       "      <td>...</td>\n",
       "    </tr>\n",
       "    <tr>\n",
       "      <th>106</th>\n",
       "      <td>22</td>\n",
       "      <td>1</td>\n",
       "      <td>19.3</td>\n",
       "      <td>82.00</td>\n",
       "      <td>156</td>\n",
       "      <td>93.2</td>\n",
       "      <td>52.0</td>\n",
       "      <td>3.00</td>\n",
       "      <td>3.9890</td>\n",
       "      <td>71</td>\n",
       "    </tr>\n",
       "    <tr>\n",
       "      <th>270</th>\n",
       "      <td>50</td>\n",
       "      <td>2</td>\n",
       "      <td>29.2</td>\n",
       "      <td>119.00</td>\n",
       "      <td>162</td>\n",
       "      <td>85.2</td>\n",
       "      <td>54.0</td>\n",
       "      <td>3.00</td>\n",
       "      <td>4.7362</td>\n",
       "      <td>95</td>\n",
       "    </tr>\n",
       "    <tr>\n",
       "      <th>348</th>\n",
       "      <td>57</td>\n",
       "      <td>1</td>\n",
       "      <td>24.5</td>\n",
       "      <td>93.00</td>\n",
       "      <td>186</td>\n",
       "      <td>96.6</td>\n",
       "      <td>71.0</td>\n",
       "      <td>3.00</td>\n",
       "      <td>4.5218</td>\n",
       "      <td>91</td>\n",
       "    </tr>\n",
       "    <tr>\n",
       "      <th>435</th>\n",
       "      <td>45</td>\n",
       "      <td>1</td>\n",
       "      <td>24.2</td>\n",
       "      <td>83.00</td>\n",
       "      <td>177</td>\n",
       "      <td>118.4</td>\n",
       "      <td>45.0</td>\n",
       "      <td>4.00</td>\n",
       "      <td>4.2195</td>\n",
       "      <td>82</td>\n",
       "    </tr>\n",
       "    <tr>\n",
       "      <th>102</th>\n",
       "      <td>23</td>\n",
       "      <td>1</td>\n",
       "      <td>29.0</td>\n",
       "      <td>90.00</td>\n",
       "      <td>216</td>\n",
       "      <td>131.4</td>\n",
       "      <td>65.0</td>\n",
       "      <td>3.00</td>\n",
       "      <td>4.5850</td>\n",
       "      <td>91</td>\n",
       "    </tr>\n",
       "  </tbody>\n",
       "</table>\n",
       "<p>296 rows × 10 columns</p>\n",
       "</div>"
      ],
      "text/plain": [
       "     1   2     3       4    5      6     7     8       9    10\n",
       "231  51   1  23.5  101.00  195  121.0  51.0  4.00  4.7449   94\n",
       "325  48   1  31.4   75.33  242  151.6  38.0  6.37  5.5683  103\n",
       "193  51   2  25.9   76.00  240  169.0  39.0  6.00  5.0752   96\n",
       "109  59   2  25.5   95.33  190  139.4  35.0  5.43  4.3567  117\n",
       "195  56   2  28.7   99.00  208  146.4  39.0  5.00  4.7274   97\n",
       "..   ..  ..   ...     ...  ...    ...   ...   ...     ...  ...\n",
       "106  22   1  19.3   82.00  156   93.2  52.0  3.00  3.9890   71\n",
       "270  50   2  29.2  119.00  162   85.2  54.0  3.00  4.7362   95\n",
       "348  57   1  24.5   93.00  186   96.6  71.0  3.00  4.5218   91\n",
       "435  45   1  24.2   83.00  177  118.4  45.0  4.00  4.2195   82\n",
       "102  23   1  29.0   90.00  216  131.4  65.0  3.00  4.5850   91\n",
       "\n",
       "[296 rows x 10 columns]"
      ]
     },
     "execution_count": 24,
     "metadata": {},
     "output_type": "execute_result"
    }
   ],
   "source": [
    "X2_train"
   ]
  },
  {
   "cell_type": "code",
   "execution_count": 25,
   "id": "062b854c",
   "metadata": {},
   "outputs": [],
   "source": [
    "X2_train = np.array(X2_train)\n",
    "# X_test = np.array(X_test)\n",
    "Y2_train = np.array(y2_train)\n",
    "# y_test = np.array(y_test)"
   ]
  },
  {
   "cell_type": "code",
   "execution_count": 26,
   "id": "600453ff",
   "metadata": {},
   "outputs": [],
   "source": [
    "X2_train=X2_train.T"
   ]
  },
  {
   "cell_type": "code",
   "execution_count": 27,
   "id": "fca6efbe",
   "metadata": {},
   "outputs": [],
   "source": [
    "numOfTrainSamples = X2_train.shape[1]"
   ]
  },
  {
   "cell_type": "code",
   "execution_count": 28,
   "id": "9b511865",
   "metadata": {},
   "outputs": [
    {
     "data": {
      "text/plain": [
       "array([[154, 192, 116,  81, 122, 259, 191, 292,  55, 107, 210,  91, 253,\n",
       "         85, 252,  59,  78, 200,  78, 245, 175,  42, 127,  53,  94, 104,\n",
       "        199, 265, 281, 248, 257, 215, 303, 170,  59, 277, 209, 138, 198,\n",
       "        124,  96, 288, 225, 265, 101,  55, 198,  51, 252,  64, 220, 131,\n",
       "        212, 142, 103, 155, 121,  86, 111,  65, 131,  51, 128, 141,  48,\n",
       "        109, 178,  88,  84, 216, 150,  60,  96, 190,  74, 279, 182, 160,\n",
       "        245, 276, 174, 180, 150, 196, 138,  97, 246, 321, 308, 109,  69,\n",
       "        182, 258, 161, 178, 214,  45, 150, 160,  55, 197, 185, 268, 310,\n",
       "        123,  68,  72, 185, 144, 147, 168, 178, 246, 151, 127,  83, 332,\n",
       "        152, 109,  90,  66, 214,  85, 129,  89, 259, 229, 200,  77,  54,\n",
       "         31, 109, 206, 144, 118,  83, 242, 259,  72, 163, 181, 141,  71,\n",
       "        137, 195, 179, 102, 131,  47, 235,  77, 198,  93, 162, 225, 275,\n",
       "        183, 306,  81,  55, 146, 196, 230, 310,  40, 135, 346,  43, 128,\n",
       "         77, 235,  49,  74,  92,  84, 263, 144, 142, 341, 115, 158, 273,\n",
       "         85,  88, 220,  39,  80, 172, 217, 336,  52, 272, 115, 110, 131,\n",
       "         71, 275, 118,  25, 100, 281, 221, 248, 200, 132,  91,  67, 202,\n",
       "         73,  85, 275, 243,  66, 293, 236, 243,  87,  39, 217,  92, 296,\n",
       "        292, 142,  50,  53, 104,  75, 120, 142, 143,  99,  65, 116, 233,\n",
       "        164,  95,  59, 139, 145, 177, 185,  97,  42, 201, 241,  70,  78,\n",
       "         49, 103,  44, 111, 191,  47, 182,  58, 155, 151,  79, 104, 143,\n",
       "        152, 170,  75, 200, 124,  91,  49, 163,  53, 283, 178, 219, 200,\n",
       "        113, 113,  63, 114, 126, 274,  88, 311,  83,  71, 134, 244,  65,\n",
       "        173,  57,  68, 141, 270, 134, 202, 148,  64, 302]])"
      ]
     },
     "execution_count": 28,
     "metadata": {},
     "output_type": "execute_result"
    }
   ],
   "source": [
    "np.expand_dims(Y2_train,axis =0)"
   ]
  },
  {
   "cell_type": "code",
   "execution_count": 29,
   "id": "5b412adb",
   "metadata": {},
   "outputs": [
    {
     "name": "stdout",
     "output_type": "stream",
     "text": [
      "(1, 296)\n",
      "(10, 296)\n"
     ]
    }
   ],
   "source": [
    "y2_train = np.expand_dims(Y2_train,axis =0)\n",
    "print(y2_train.shape)\n",
    "print(X2_train.shape)"
   ]
  },
  {
   "cell_type": "code",
   "execution_count": 62,
   "id": "9e512d8b",
   "metadata": {},
   "outputs": [
    {
     "name": "stdout",
     "output_type": "stream",
     "text": [
      "(1, 10)\n",
      "W: [[0.30379979 0.03185807 0.02576841 0.07300683 0.41510308 0.63317897\n",
      "  0.00359063 0.6610659  0.47298272 0.24830459]]\n",
      "296\n"
     ]
    }
   ],
   "source": [
    "W = np.random.rand(10,1)\n",
    "print(W.T.shape)\n",
    "print('W:',W.T)\n",
    "\n",
    "print(numOfTrainSamples)\n",
    "\n"
   ]
  },
  {
   "cell_type": "code",
   "execution_count": 63,
   "id": "08755fc2",
   "metadata": {},
   "outputs": [
    {
     "data": {
      "text/plain": [
       "0.3059081913307359"
      ]
     },
     "execution_count": 63,
     "metadata": {},
     "output_type": "execute_result"
    }
   ],
   "source": [
    "b = np.random.rand()\n",
    "b"
   ]
  },
  {
   "cell_type": "code",
   "execution_count": 64,
   "id": "04bdefeb",
   "metadata": {},
   "outputs": [
    {
     "name": "stdout",
     "output_type": "stream",
     "text": [
      "W (10, 1)\n",
      "X2 (10, 296)\n"
     ]
    }
   ],
   "source": [
    "print('W',W.shape)\n",
    "print('X2',X2_train.shape)"
   ]
  },
  {
   "cell_type": "code",
   "execution_count": 65,
   "id": "4cd6b7cf",
   "metadata": {},
   "outputs": [],
   "source": [
    "from sklearn.metrics import mean_squared_error"
   ]
  },
  {
   "cell_type": "code",
   "execution_count": 81,
   "id": "b6e9c947",
   "metadata": {},
   "outputs": [
    {
     "name": "stdout",
     "output_type": "stream",
     "text": [
      "[[-2.77108144e+23 -3.15557863e+23 -3.19758996e+23 -2.86045399e+23\n",
      "  -2.96848181e+23 -2.42920656e+23 -3.08996552e+23 -3.14063879e+23\n",
      "  -2.59384416e+23 -2.62327784e+23 -2.11505398e+23 -2.82900153e+23\n",
      "  -3.42704111e+23 -3.00071315e+23 -2.29686069e+23 -2.29827225e+23\n",
      "  -2.28429062e+23 -2.49259169e+23 -3.15492322e+23 -2.61855806e+23\n",
      "  -2.59044078e+23 -2.10469350e+23 -2.44388859e+23 -2.67328921e+23\n",
      "  -2.56764363e+23 -2.20171267e+23 -2.15896185e+23 -2.69179074e+23\n",
      "  -2.41012843e+23 -3.07150264e+23 -2.81929444e+23 -3.04751557e+23\n",
      "  -2.61621794e+23 -3.20662168e+23 -2.79667919e+23 -2.63243763e+23\n",
      "  -2.97252227e+23 -2.32297865e+23 -2.27529651e+23 -2.53776845e+23\n",
      "  -2.59828685e+23 -2.47327299e+23 -2.83777580e+23 -2.46784838e+23\n",
      "  -1.80841385e+23 -2.49836961e+23 -3.07999341e+23 -2.76792049e+23\n",
      "  -3.44257268e+23 -2.20252897e+23 -2.93461394e+23 -3.58454667e+23\n",
      "  -3.03271125e+23 -2.19139444e+23 -3.00637656e+23 -3.04444931e+23\n",
      "  -3.63033372e+23 -2.27958643e+23 -2.62745413e+23 -2.98781457e+23\n",
      "  -2.78080786e+23 -2.50448010e+23 -2.79172423e+23 -2.34590768e+23\n",
      "  -2.76928445e+23 -3.05804412e+23 -2.11872359e+23 -2.49040043e+23\n",
      "  -4.03714786e+23 -2.71816092e+23 -2.69777178e+23 -2.76526228e+23\n",
      "  -2.62712487e+23 -3.33559801e+23 -2.66872087e+23 -2.91629597e+23\n",
      "  -1.96316351e+23 -2.40671190e+23 -2.82905330e+23 -2.37308183e+23\n",
      "  -2.89665054e+23 -3.13922987e+23 -3.19328293e+23 -3.63211565e+23\n",
      "  -3.30079593e+23 -2.66233654e+23 -2.76008489e+23 -2.52257847e+23\n",
      "  -2.89649588e+23 -2.76203530e+23 -3.39464436e+23 -2.41062877e+23\n",
      "  -3.74441092e+23 -2.30691532e+23 -2.79658761e+23 -2.61554848e+23\n",
      "  -2.56774305e+23 -2.05553902e+23 -2.56849709e+23 -2.23774341e+23\n",
      "  -2.93159376e+23 -2.03793406e+23 -2.84117534e+23 -3.12673159e+23\n",
      "  -2.81585868e+23 -2.97127647e+23 -2.03871498e+23 -2.76773513e+23\n",
      "  -2.46325350e+23 -2.56440823e+23 -2.12735522e+23 -2.77417864e+23\n",
      "  -2.68656229e+23 -2.83528834e+23 -2.44155480e+23 -2.41920882e+23\n",
      "  -2.79470412e+23 -1.68845612e+23 -2.97555801e+23 -2.43258129e+23\n",
      "  -2.67293552e+23 -2.85390518e+23 -2.06625387e+23 -2.76218151e+23\n",
      "  -2.85720786e+23 -3.03410999e+23 -3.09704721e+23 -2.38948141e+23\n",
      "  -2.16129233e+23 -2.68160569e+23 -2.29752831e+23 -2.86960085e+23\n",
      "  -2.81065458e+23 -2.69803231e+23 -2.91656341e+23 -1.94914771e+23\n",
      "  -2.79848223e+23 -2.58315731e+23 -2.16155924e+23 -2.76104675e+23\n",
      "  -2.28191219e+23 -2.59715382e+23 -1.89524598e+23 -2.91310814e+23\n",
      "  -2.82791577e+23 -2.60522360e+23 -2.96482945e+23 -2.26228385e+23\n",
      "  -2.54498384e+23 -3.13702221e+23 -2.11920346e+23 -2.96402338e+23\n",
      "  -2.49533888e+23 -2.20950429e+23 -2.40566188e+23 -2.70677781e+23\n",
      "  -2.81947315e+23 -3.36376839e+23 -2.84491694e+23 -1.92243694e+23\n",
      "  -2.80928371e+23 -2.88930693e+23 -3.46310834e+23 -3.04275425e+23\n",
      "  -1.84020718e+23 -2.72164559e+23 -2.39604642e+23 -2.10875635e+23\n",
      "  -3.10337807e+23 -2.36268962e+23 -2.81931687e+23 -2.64992766e+23\n",
      "  -1.95631767e+23 -2.49104925e+23 -2.20285509e+23 -2.58975682e+23\n",
      "  -2.27098158e+23 -1.85099947e+23 -2.38903354e+23 -3.24642250e+23\n",
      "  -3.15121407e+23 -2.62982640e+23 -2.32190595e+23 -2.42812075e+23\n",
      "  -3.87757892e+23 -2.64686299e+23 -3.11060280e+23 -2.41780326e+23\n",
      "  -3.07485904e+23 -2.56705791e+23 -2.52852173e+23 -2.27988818e+23\n",
      "  -2.52621760e+23 -2.59719107e+23 -2.62919839e+23 -2.17761153e+23\n",
      "  -2.61333642e+23 -2.74734319e+23 -2.35044799e+23 -3.24228462e+23\n",
      "  -1.91598172e+23 -2.43890374e+23 -3.21518254e+23 -2.47047798e+23\n",
      "  -2.36317552e+23 -2.69541839e+23 -3.34117713e+23 -2.77440942e+23\n",
      "  -3.12960346e+23 -2.55108717e+23 -2.59076146e+23 -3.19034244e+23\n",
      "  -2.41879320e+23 -2.48660970e+23 -3.15023777e+23 -2.89319776e+23\n",
      "  -2.88116052e+23 -2.60105814e+23 -3.82184205e+23 -2.80071189e+23\n",
      "  -3.19624089e+23 -2.56909709e+23 -3.34868820e+23 -2.67332748e+23\n",
      "  -2.42491733e+23 -2.90584012e+23 -2.50399650e+23 -3.26622922e+23\n",
      "  -2.55213192e+23 -3.28457436e+23 -2.43839714e+23 -2.13213781e+23\n",
      "  -2.23634776e+23 -2.96168613e+23 -3.15709992e+23 -3.20536684e+23\n",
      "  -2.96743693e+23 -3.04929209e+23 -2.35350969e+23 -2.89234877e+23\n",
      "  -2.60340530e+23 -2.86367375e+23 -2.38153404e+23 -2.19664955e+23\n",
      "  -3.23445132e+23 -1.86070983e+23 -2.39412903e+23 -2.78476989e+23\n",
      "  -2.66072572e+23 -2.41555196e+23 -2.55312474e+23 -2.56368077e+23\n",
      "  -2.43218434e+23 -2.84206743e+23 -2.30269174e+23 -2.37629548e+23\n",
      "  -1.86551385e+23 -2.64318390e+23 -3.09245336e+23 -1.92890380e+23\n",
      "  -2.96814185e+23 -2.67065295e+23 -2.74342940e+23 -2.97669597e+23\n",
      "  -2.37074396e+23 -2.84903795e+23 -2.35651319e+23 -2.97516366e+23\n",
      "  -2.39243300e+23 -3.65080122e+23 -1.97610403e+23 -2.22684120e+23\n",
      "  -2.87871386e+23 -2.73272047e+23 -2.82195779e+23 -2.56073517e+23\n",
      "  -1.99093685e+23 -2.37103298e+23 -2.78096770e+23 -2.57064026e+23\n",
      "  -2.84221910e+23 -2.86842191e+23 -2.73931065e+23 -3.08852541e+23\n",
      "  -2.78836941e+23 -2.20057449e+23 -2.81816437e+23 -3.15330096e+23\n",
      "  -2.25675981e+23 -3.31270377e+23 -3.04153575e+23 -2.17842241e+23\n",
      "  -2.45796657e+23 -2.61171353e+23 -2.50944681e+23 -2.89635086e+23]]\n",
      "Error:  7.344143539376381e+46\n"
     ]
    }
   ],
   "source": [
    "from sklearn.metrics import log_loss\n",
    "\n",
    "alpha = 0.001\n",
    "\n",
    "for n in range(1):\n",
    "\n",
    "    # Net input function output\n",
    "    Z = np.dot(W.T,X2_train) + b\n",
    "\n",
    "    print(Z)\n",
    "    \n",
    "    # Loss Function\n",
    "    e= mean_squared_error(Z,y2_train)\n",
    "    print('Error: ',e)\n",
    "    dz=Z-y2_train\n",
    "\n",
    "\n",
    "    dw = np.dot(X2_train,dz.T)/numOfTrainSamples\n",
    "    db = np.sum(dz,axis =1)/numOfTrainSamples\n",
    "\n",
    "    W = W - alpha * dw\n",
    "    b = b - alpha *db\n"
   ]
  },
  {
   "cell_type": "code",
   "execution_count": 80,
   "id": "74909ff7",
   "metadata": {},
   "outputs": [
    {
     "data": {
      "text/plain": [
       "((1, 296), (1, 296))"
      ]
     },
     "execution_count": 80,
     "metadata": {},
     "output_type": "execute_result"
    }
   ],
   "source": [
    "y2_train.shape,Z.shape"
   ]
  },
  {
   "cell_type": "code",
   "execution_count": 43,
   "id": "99f79dfc",
   "metadata": {},
   "outputs": [
    {
     "name": "stdout",
     "output_type": "stream",
     "text": [
      "(10, 296)\n",
      "(296, 1)\n"
     ]
    },
    {
     "data": {
      "text/plain": [
       "(None, None)"
      ]
     },
     "execution_count": 43,
     "metadata": {},
     "output_type": "execute_result"
    }
   ],
   "source": [
    "print(X2_train.shape),print(y2_train.T.shape)"
   ]
  },
  {
   "cell_type": "code",
   "execution_count": 52,
   "id": "e7207d6b",
   "metadata": {},
   "outputs": [
    {
     "data": {
      "text/plain": [
       "array([154, 192, 116,  81, 122, 259, 191, 292,  55, 107, 210,  91, 253,\n",
       "        85, 252,  59,  78, 200,  78, 245, 175,  42, 127,  53,  94, 104,\n",
       "       199, 265, 281, 248, 257, 215, 303, 170,  59, 277, 209, 138, 198,\n",
       "       124,  96, 288, 225, 265, 101,  55, 198,  51, 252,  64, 220, 131,\n",
       "       212, 142, 103, 155, 121,  86, 111,  65, 131,  51, 128, 141,  48,\n",
       "       109, 178,  88,  84, 216, 150,  60,  96, 190,  74, 279, 182, 160,\n",
       "       245, 276, 174, 180, 150, 196, 138,  97, 246, 321, 308, 109,  69,\n",
       "       182, 258, 161, 178, 214,  45, 150, 160,  55, 197, 185, 268, 310,\n",
       "       123,  68,  72, 185, 144, 147, 168, 178, 246, 151, 127,  83, 332,\n",
       "       152, 109,  90,  66, 214,  85, 129,  89, 259, 229, 200,  77,  54,\n",
       "        31, 109, 206, 144, 118,  83, 242, 259,  72, 163, 181, 141,  71,\n",
       "       137, 195, 179, 102, 131,  47, 235,  77, 198,  93, 162, 225, 275,\n",
       "       183, 306,  81,  55, 146, 196, 230, 310,  40, 135, 346,  43, 128,\n",
       "        77, 235,  49,  74,  92,  84, 263, 144, 142, 341, 115, 158, 273,\n",
       "        85,  88, 220,  39,  80, 172, 217, 336,  52, 272, 115, 110, 131,\n",
       "        71, 275, 118,  25, 100, 281, 221, 248, 200, 132,  91,  67, 202,\n",
       "        73,  85, 275, 243,  66, 293, 236, 243,  87,  39, 217,  92, 296,\n",
       "       292, 142,  50,  53, 104,  75, 120, 142, 143,  99,  65, 116, 233,\n",
       "       164,  95,  59, 139, 145, 177, 185,  97,  42, 201, 241,  70,  78,\n",
       "        49, 103,  44, 111, 191,  47, 182,  58, 155, 151,  79, 104, 143,\n",
       "       152, 170,  75, 200, 124,  91,  49, 163,  53, 283, 178, 219, 200,\n",
       "       113, 113,  63, 114, 126, 274,  88, 311,  83,  71, 134, 244,  65,\n",
       "       173,  57,  68, 141, 270, 134, 202, 148,  64, 302])"
      ]
     },
     "execution_count": 52,
     "metadata": {},
     "output_type": "execute_result"
    }
   ],
   "source": [
    "y2_train[0]"
   ]
  },
  {
   "cell_type": "code",
   "execution_count": 56,
   "id": "4143cdc7",
   "metadata": {},
   "outputs": [
    {
     "data": {
      "text/plain": [
       "array([428.79319842, 445.76738516, 439.37164139, 431.7723378 ,\n",
       "       435.73675017, 401.89856187, 458.14651317, 458.94627368,\n",
       "       388.7578292 , 403.47653881, 348.29443759, 427.829476  ,\n",
       "       469.83888151, 475.22777888, 388.11494925, 379.91895097,\n",
       "       370.36314984, 414.70491148, 450.87181411, 391.14726809,\n",
       "       440.89491827, 354.96722977, 393.63233657, 418.96637449,\n",
       "       413.8670841 , 338.42397882, 355.77540817, 437.64154053,\n",
       "       401.94591974, 471.4341027 , 443.88111453, 457.58375365,\n",
       "       432.47092667, 475.74327339, 429.12310597, 421.79724488,\n",
       "       429.80083794, 370.8407136 , 381.76382654, 366.81374899,\n",
       "       380.97075528, 393.85044709, 420.44081674, 393.81581692,\n",
       "       327.08889122, 384.35038741, 436.71766785, 409.75520074,\n",
       "       500.72464683, 393.54934448, 462.3043183 , 486.63666943,\n",
       "       444.15873957, 352.28226337, 512.55609768, 471.35024686,\n",
       "       486.70726864, 384.90257715, 423.44123814, 461.51544131,\n",
       "       446.91017289, 390.75578707, 419.89792651, 379.71346407,\n",
       "       459.47161257, 455.45626021, 364.73454078, 383.55882475,\n",
       "       519.1680333 , 439.12913135, 427.62897175, 429.45431399,\n",
       "       411.83568137, 487.57727595, 418.44400233, 433.05851656,\n",
       "       325.54076806, 383.64939766, 463.59690243, 387.97602305,\n",
       "       417.21503234, 455.27964493, 470.16924235, 510.22656158,\n",
       "       465.31964427, 407.59882418, 450.28724599, 419.57033713,\n",
       "       450.83958401, 429.03192125, 477.80559795, 414.93701796,\n",
       "       514.70422234, 384.41944777, 414.69845938, 380.5939039 ,\n",
       "       434.91204574, 341.36676553, 384.44959644, 345.86161103,\n",
       "       455.89933989, 352.05567886, 443.49060531, 492.53705189,\n",
       "       443.78573209, 416.64629048, 341.79530059, 442.50896678,\n",
       "       388.90282106, 394.83575259, 362.29990511, 429.41154464,\n",
       "       404.42731756, 409.72320169, 395.05833212, 387.15988604,\n",
       "       428.16581711, 312.67944227, 470.25049859, 395.19023257,\n",
       "       420.14518419, 461.03470892, 354.92658229, 428.70846086,\n",
       "       411.77871036, 437.34479475, 442.19948523, 380.49259645,\n",
       "       345.38057898, 401.13756558, 360.49782653, 435.55081382,\n",
       "       439.3341874 , 387.85705508, 441.92883884, 336.99653134,\n",
       "       447.32056858, 391.43984962, 336.33856908, 421.00806649,\n",
       "       371.20568657, 402.08150938, 322.75693283, 405.84227079,\n",
       "       440.01325869, 410.2639101 , 471.99147676, 357.98507106,\n",
       "       407.45481397, 465.54454151, 386.56055495, 450.62739305,\n",
       "       375.99072872, 343.73315341, 390.2831959 , 427.98782722,\n",
       "       401.9743541 , 463.05484844, 436.10194286, 327.47223155,\n",
       "       420.24869171, 425.80844657, 485.16407006, 482.48047411,\n",
       "       358.66678542, 413.51651822, 376.22644328, 356.19041125,\n",
       "       455.81496047, 375.99829943, 403.76251229, 412.60588534,\n",
       "       320.76789165, 388.29684165, 382.76611599, 438.51665616,\n",
       "       354.86142691, 310.30466151, 379.02864703, 453.15429379,\n",
       "       471.95228417, 424.01448799, 387.80212737, 395.0253305 ,\n",
       "       514.74283022, 438.47186767, 459.9115058 , 375.03342989,\n",
       "       481.43121263, 433.71398695, 402.56067178, 370.62958817,\n",
       "       387.64100245, 397.27119161, 402.53314785, 370.02090127,\n",
       "       411.04082384, 427.22891075, 383.65534701, 472.62514662,\n",
       "       355.24396205, 387.94266959, 461.18920244, 399.40261634,\n",
       "       395.51027583, 419.83031373, 484.18458248, 446.04636696,\n",
       "       482.46756293, 400.73040393, 414.40220419, 471.90873553,\n",
       "       409.40255751, 411.8945823 , 483.88090114, 481.09385438,\n",
       "       462.30635927, 414.69308949, 528.75756848, 453.39673822,\n",
       "       492.60673005, 398.78296236, 491.71186486, 412.2952407 ,\n",
       "       386.11808138, 454.6431496 , 396.21200794, 477.85029499,\n",
       "       382.80050631, 489.31123538, 400.13272176, 347.21523698,\n",
       "       360.08341077, 439.10182049, 448.58784929, 462.8060992 ,\n",
       "       437.02179698, 438.43917585, 364.25825556, 443.49551678,\n",
       "       410.92516744, 432.99706615, 394.97232342, 335.21907022,\n",
       "       479.56389894, 314.24414371, 380.56574378, 435.73108593,\n",
       "       412.59444796, 392.07624727, 394.36305528, 445.04162125,\n",
       "       384.79680253, 440.24901726, 367.29121772, 393.35648266,\n",
       "       334.87234826, 407.36302296, 431.90203047, 337.71388174,\n",
       "       455.49581688, 463.25048713, 428.85532706, 416.23790443,\n",
       "       394.67656247, 401.43065151, 382.82499849, 454.71621456,\n",
       "       366.53831873, 523.38813247, 339.86690015, 386.61186397,\n",
       "       428.48025638, 425.51605995, 450.57174228, 413.56238357,\n",
       "       348.74646482, 359.83196353, 454.34991333, 416.36696909,\n",
       "       439.98208825, 417.3075544 , 417.91774092, 475.03473127,\n",
       "       415.67954928, 390.66826114, 425.96055865, 481.23874349,\n",
       "       370.55738135, 484.39149885, 476.22462576, 345.04956846,\n",
       "       421.92269628, 429.79209054, 378.34407283, 439.68610562])"
      ]
     },
     "execution_count": 56,
     "metadata": {},
     "output_type": "execute_result"
    }
   ],
   "source": [
    "Z[0]"
   ]
  },
  {
   "cell_type": "code",
   "execution_count": null,
   "id": "6ce1d06f",
   "metadata": {},
   "outputs": [],
   "source": []
  }
 ],
 "metadata": {
  "kernelspec": {
   "display_name": "Python 3 (ipykernel)",
   "language": "python",
   "name": "python3"
  },
  "language_info": {
   "codemirror_mode": {
    "name": "ipython",
    "version": 3
   },
   "file_extension": ".py",
   "mimetype": "text/x-python",
   "name": "python",
   "nbconvert_exporter": "python",
   "pygments_lexer": "ipython3",
   "version": "3.9.7"
  }
 },
 "nbformat": 4,
 "nbformat_minor": 5
}
